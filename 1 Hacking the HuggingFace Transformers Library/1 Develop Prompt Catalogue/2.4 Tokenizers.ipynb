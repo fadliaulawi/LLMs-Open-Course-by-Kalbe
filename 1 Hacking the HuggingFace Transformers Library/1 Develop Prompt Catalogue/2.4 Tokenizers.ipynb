{
  "nbformat": 4,
  "nbformat_minor": 0,
  "metadata": {
    "colab": {
      "provenance": []
    },
    "kernelspec": {
      "name": "python3",
      "display_name": "Python 3"
    },
    "language_info": {
      "name": "python"
    }
  },
  "cells": [
    {
      "cell_type": "code",
      "source": [
        "!wget \"https://huggingface.co/bert-base-uncased/resolve/main/vocab.txt\""
      ],
      "metadata": {
        "id": "H7VBHOMKRi3N",
        "outputId": "bd1bffe2-8df8-4feb-8268-845dd3a0f2bc",
        "colab": {
          "base_uri": "https://localhost:8080/"
        }
      },
      "execution_count": null,
      "outputs": [
        {
          "output_type": "stream",
          "name": "stdout",
          "text": [
            "--2024-01-29 03:32:01--  https://huggingface.co/bert-base-uncased/resolve/main/vocab.txt\n",
            "Resolving huggingface.co (huggingface.co)... 18.172.134.4, 18.172.134.24, 18.172.134.124, ...\n",
            "Connecting to huggingface.co (huggingface.co)|18.172.134.4|:443... connected.\n",
            "HTTP request sent, awaiting response... 200 OK\n",
            "Length: 231508 (226K) [text/plain]\n",
            "Saving to: ‘vocab.txt’\n",
            "\n",
            "\rvocab.txt             0%[                    ]       0  --.-KB/s               \rvocab.txt           100%[===================>] 226.08K  --.-KB/s    in 0.04s   \n",
            "\n",
            "2024-01-29 03:32:02 (5.05 MB/s) - ‘vocab.txt’ saved [231508/231508]\n",
            "\n"
          ]
        }
      ]
    },
    {
      "cell_type": "markdown",
      "source": [
        "#### Write code using Hugging Face's tokenizer to tokenize and process text for model input.​"
      ],
      "metadata": {
        "id": "IL_WXDYaTdTn"
      }
    },
    {
      "cell_type": "code",
      "execution_count": null,
      "metadata": {
        "colab": {
          "base_uri": "https://localhost:8080/"
        },
        "id": "VhqqD9INQF05",
        "outputId": "4e62b752-42ab-4baa-9a8b-52acee6057a1"
      },
      "outputs": [
        {
          "output_type": "stream",
          "name": "stdout",
          "text": [
            "Original Text: Hugging Face's tokenizer is awesome!\n",
            "Token IDs: [101, 17662, 2227, 1005, 1055, 19204, 17629, 2003, 12476, 999, 102]\n",
            "Token Strings: hugging face ' s tokenizer is awesome!\n"
          ]
        }
      ],
      "source": [
        "from tokenizers import BertWordPieceTokenizer\n",
        "\n",
        "# Load pre-trained BERT tokenizer\n",
        "tokenizer = BertWordPieceTokenizer(\"vocab.txt\")\n",
        "\n",
        "# Example text\n",
        "text = \"Hugging Face's tokenizer is awesome!\"\n",
        "\n",
        "# Tokenize the text\n",
        "tokens = tokenizer.encode(text)\n",
        "\n",
        "# Convert token IDs back to strings\n",
        "token_strings = tokenizer.decode(tokens.ids)\n",
        "\n",
        "print(\"Original Text:\", text)\n",
        "print(\"Token IDs:\", tokens.ids)\n",
        "print(\"Token Strings:\", token_strings)"
      ]
    }
  ]
}